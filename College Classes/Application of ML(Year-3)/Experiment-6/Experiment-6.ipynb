{
 "cells": [
  {
   "cell_type": "code",
   "execution_count": 5,
   "metadata": {},
   "outputs": [
    {
     "name": "stdout",
     "output_type": "stream",
     "text": [
      "The dimensions of the dataset (19, 2)\n",
      "0     ﻿,Text,Documents,Label\n",
      "1              1,I,love,this\n",
      "2               2,This,is,an\n",
      "3              3,I,feel,very\n",
      "4               4,This,is,my\n",
      "5          5,What,an,awesome\n",
      "6                 6,I,do,not\n",
      "7               7,I,am,tired\n",
      "8             8,I,can't,deal\n",
      "9                 9,He,is,my\n",
      "10             10,My,boss,is\n",
      "11             11,This,is,an\n",
      "12               12,I,do,not\n",
      "13              13,I,love,to\n",
      "14              14,I,am,sick\n",
      "15           15,What,a,great\n",
      "16              16,That,is,a\n",
      "17           17,We,will,have\n",
      "18              18,I,went,to\n",
      "Name: message, dtype: object\n",
      "0    NaN\n",
      "1    NaN\n",
      "2    NaN\n",
      "3    NaN\n",
      "4    NaN\n",
      "5    NaN\n",
      "6    NaN\n",
      "7    NaN\n",
      "8    NaN\n",
      "9    NaN\n",
      "10   NaN\n",
      "11   NaN\n",
      "12   NaN\n",
      "13   NaN\n",
      "14   NaN\n",
      "15   NaN\n",
      "16   NaN\n",
      "17   NaN\n",
      "18   NaN\n",
      "Name: labelnum, dtype: float64\n"
     ]
    }
   ],
   "source": [
    "import pandas as pd \n",
    "msg=pd.read_csv('naivetext.csv',names=['message','label']) \n",
    "print('The dimensions of the dataset',msg.shape)\n",
    "msg['labelnum']=msg.label.map({'pos':1,'neg':0})\n",
    "X=msg.message\n",
    "y=msg.labelnum\n",
    "print(X) \n",
    "print(y)\n"
   ]
  },
  {
   "cell_type": "code",
   "execution_count": 6,
   "metadata": {},
   "outputs": [
    {
     "name": "stdout",
     "output_type": "stream",
     "text": [
      "\n",
      " The total number of Training Data : (14,)\n",
      "\n",
      " The total number of Test Data : (5,)\n"
     ]
    }
   ],
   "source": [
    "from sklearn.model_selection import train_test_split \n",
    "xtrain,xtest,ytrain,ytest=train_test_split(X,y)\n",
    "\n",
    "print ('\\n The total number of Training Data :',ytrain.shape) \n",
    "print ('\\n The total number of Test Data :',ytest.shape)\n"
   ]
  },
  {
   "cell_type": "code",
   "execution_count": 7,
   "metadata": {},
   "outputs": [
    {
     "name": "stdout",
     "output_type": "stream",
     "text": [
      "\n",
      " The words or Tokens in the text documents \n",
      "\n",
      "['10' '11' '12' '13' '14' '15' '16' '18' 'am' 'an' 'boss' 'can' 'deal'\n",
      " 'do' 'documents' 'feel' 'great' 'he' 'is' 'label' 'love' 'my' 'not'\n",
      " 'sick' 'text' 'that' 'this' 'to' 'very' 'went' 'what']\n"
     ]
    }
   ],
   "source": [
    "from sklearn.feature_extraction.text import CountVectorizer \n",
    "count_vect = CountVectorizer()\n",
    "xtrain_dtm = count_vect.fit_transform(xtrain) \n",
    "xtest_dtm=count_vect.transform(xtest)\n",
    "print('\\n The words or Tokens in the text documents \\n') \n",
    "print(count_vect.get_feature_names_out())\n",
    "df=pd.DataFrame(xtrain_dtm.toarray(),columns=count_vect.get_feature_names_out())\n"
   ]
  },
  {
   "cell_type": "code",
   "execution_count": null,
   "metadata": {},
   "outputs": [],
   "source": [
    "from sklearn.naive_bayes import MultinomialNB\n",
    "clf = MultinomialNB().fit(xtrain_dtm,ytrain) \n",
    "predicted = clf.predict(xtest_dtm)\n",
    "from sklearn import metrics\n",
    "print('\\n Accuracy of the classifer is',metrics.accuracy_score(ytest,predicted))\n"
   ]
  },
  {
   "cell_type": "code",
   "execution_count": null,
   "metadata": {},
   "outputs": [],
   "source": []
  }
 ],
 "metadata": {
  "kernelspec": {
   "display_name": "Python 3",
   "language": "python",
   "name": "python3"
  },
  "language_info": {
   "codemirror_mode": {
    "name": "ipython",
    "version": 3
   },
   "file_extension": ".py",
   "mimetype": "text/x-python",
   "name": "python",
   "nbconvert_exporter": "python",
   "pygments_lexer": "ipython3",
   "version": "3.11.2"
  },
  "orig_nbformat": 4
 },
 "nbformat": 4,
 "nbformat_minor": 2
}
