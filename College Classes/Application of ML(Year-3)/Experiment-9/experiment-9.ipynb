{
 "cells": [
  {
   "cell_type": "code",
   "execution_count": 9,
   "metadata": {},
   "outputs": [
    {
     "ename": "NameError",
     "evalue": "name 'X' is not defined",
     "output_type": "error",
     "traceback": [
      "\u001b[1;31m---------------------------------------------------------------------------\u001b[0m",
      "\u001b[1;31mNameError\u001b[0m                                 Traceback (most recent call last)",
      "Cell \u001b[1;32mIn[9], line 11\u001b[0m\n\u001b[0;32m      8\u001b[0m     X \u001b[39m=\u001b[39m np\u001b[39m.\u001b[39mc_[np\u001b[39m.\u001b[39mones(\u001b[39mlen\u001b[39m(X)), X]\n\u001b[0;32m     10\u001b[0m \u001b[39m# fit model: normal equations with kernel\u001b[39;00m\n\u001b[1;32m---> 11\u001b[0m xw \u001b[39m=\u001b[39m X\u001b[39m.\u001b[39mT \u001b[39m*\u001b[39m radial_kernel(x0, X, tau) \u001b[39m# XTranspose * W\u001b[39;00m\n\u001b[0;32m     13\u001b[0m beta \u001b[39m=\u001b[39m np\u001b[39m.\u001b[39mlinalg\u001b[39m.\u001b[39mpinv(xw \u001b[39m@\u001b[39m X) \u001b[39m@\u001b[39m xw \u001b[39m@\u001b[39m Y \u001b[39m#@ Matrix Multiplication or Dot Product\u001b[39;00m\n\u001b[0;32m     14\u001b[0m \u001b[39mreturn\u001b[39;00m x0 \u001b[39m@\u001b[39m beta \u001b[39m# @ Matrix Multiplication or Dot Product for prediction\u001b[39;00m\n",
      "\u001b[1;31mNameError\u001b[0m: name 'X' is not defined"
     ]
    }
   ],
   "source": [
    "import numpy as np\n",
    "from bokeh.plotting import figure, show, output_notebook \n",
    "from bokeh.layouts import gridplot\n",
    "from bokeh.io import push_notebook\n",
    "\n",
    "def local_regression(x0, X, Y, tau): # Add bias term \n",
    "    x0 = np.r_[1, x0] # Add one to avoid the loss in information\n",
    "    X = np.c_[np.ones(len(X)), X]\n",
    " \n",
    "# fit model: normal equations with kernel\n",
    "xw = X.T * radial_kernel(x0, X, tau) # XTranspose * W\n",
    "\n",
    "beta = np.linalg.pinv(xw @ X) @ xw @ Y #@ Matrix Multiplication or Dot Product\n",
    "return x0 @ beta # @ Matrix Multiplication or Dot Product for prediction\n",
    "\n",
    "def radial_kernel(x0, X, tau):\n",
    "    return np.exp(np.sum((X - x0) ** 2, axis=1) / (-2 * tau * tau))\n",
    " \n",
    "# Weight or Radial Kernal Bias Function\n",
    "n = 1000\n",
    "# generate dataset\n",
    "X = np.linspace(-3, 3, num=n)\n",
    "\n",
    "print(\"The Data Set ( 10 Samples) X :\\n\",X[1:10]) \n",
    "\n",
    "Y = np.log(np.abs(X ** 2 - 1) + .5)\n",
    "\n",
    "print(\"The Fitting Curve Data Set (10 Samples) Y:\\n\",Y[1:10])\n",
    "\n",
    "# jitter X\n",
    "X += np.random.normal(scale=.1, size=n) \n",
    "print(\"Normalised (10 Samples) X :\\n\",X[1:10])\n",
    "\n",
    "domain = np.linspace(-3, 3, num=300)\n",
    "print(\" Xo Domain Space(10 Samples) :\\n\",domain[1:10]) \n",
    "\n",
    "def plot_lwr(tau):\n",
    "# prediction through regression\n",
    "    prediction = [local_regression(x0, X, Y, tau) for x0 in domain]\n",
    "    plot = figure(width=400, height=400) \n",
    "    plot.title.text='tau=%g' % tau\n",
    "    plot.scatter(X, Y, alpha=.3)\n",
    "    plot.line(domain, prediction, line_width=2, color='red') \n",
    "    return plot\n",
    "\n",
    "show(gridplot([\n",
    "[plot_lwr(10.), plot_lwr(1.)],\n",
    "[plot_lwr(0.1), plot_lwr(0.01)]]))\n"
   ]
  },
  {
   "cell_type": "code",
   "execution_count": null,
   "metadata": {},
   "outputs": [],
   "source": []
  }
 ],
 "metadata": {
  "kernelspec": {
   "display_name": "Python 3",
   "language": "python",
   "name": "python3"
  },
  "language_info": {
   "codemirror_mode": {
    "name": "ipython",
    "version": 3
   },
   "file_extension": ".py",
   "mimetype": "text/x-python",
   "name": "python",
   "nbconvert_exporter": "python",
   "pygments_lexer": "ipython3",
   "version": "3.11.2"
  },
  "orig_nbformat": 4
 },
 "nbformat": 4,
 "nbformat_minor": 2
}
