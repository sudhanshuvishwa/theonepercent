{
 "cells": [
  {
   "cell_type": "markdown",
   "metadata": {},
   "source": [
    "# Experiment - 3 (Text Preprocessing(Using nltk))"
   ]
  },
  {
   "attachments": {},
   "cell_type": "markdown",
   "metadata": {},
   "source": [
    "Importing Libraries"
   ]
  },
  {
   "cell_type": "code",
   "execution_count": 2,
   "metadata": {},
   "outputs": [],
   "source": [
    "import nltk\n",
    "from nltk.stem import PorterStemmer\n",
    "from nltk.stem import WordNetLemmatizer\n",
    "from nltk.corpus import stopwords"
   ]
  },
  {
   "cell_type": "code",
   "execution_count": 3,
   "metadata": {},
   "outputs": [
    {
     "name": "stderr",
     "output_type": "stream",
     "text": [
      "[nltk_data] Downloading package punkt to\n",
      "[nltk_data]     C:\\Users\\sudha\\AppData\\Roaming\\nltk_data...\n",
      "[nltk_data]   Unzipping tokenizers\\punkt.zip.\n",
      "[nltk_data] Downloading package wordnet to\n",
      "[nltk_data]     C:\\Users\\sudha\\AppData\\Roaming\\nltk_data...\n",
      "[nltk_data] Downloading package stopwords to\n",
      "[nltk_data]     C:\\Users\\sudha\\AppData\\Roaming\\nltk_data...\n",
      "[nltk_data]   Unzipping corpora\\stopwords.zip.\n"
     ]
    },
    {
     "data": {
      "text/plain": [
       "True"
      ]
     },
     "execution_count": 3,
     "metadata": {},
     "output_type": "execute_result"
    }
   ],
   "source": [
    "# downloading punkt tokenizer\n",
    "nltk.download('punkt')\n",
    "# downloading lemmatizer wordnet\n",
    "nltk.download('wordnet')\n",
    "# downloading the corpus of stopwords\n",
    "nltk.download('stopwords')"
   ]
  },
  {
   "attachments": {},
   "cell_type": "markdown",
   "metadata": {},
   "source": [
    "Declaring Text Data"
   ]
  },
  {
   "cell_type": "code",
   "execution_count": 4,
   "metadata": {},
   "outputs": [],
   "source": [
    "paragraph='Karma denotes the ethical aspect of the rebirth (samsara) method, which is widely accepted throughout India’s religious traditions. In its most basic form, karma applies to all deeds and their consequences and is used to advance the soul and cause enlightenment.'"
   ]
  },
  {
   "attachments": {},
   "cell_type": "markdown",
   "metadata": {},
   "source": [
    "Extracting Different Sentences from the paragraph"
   ]
  },
  {
   "cell_type": "code",
   "execution_count": 5,
   "metadata": {},
   "outputs": [
    {
     "data": {
      "text/plain": [
       "['Karma denotes the ethical aspect of the rebirth (samsara) method, which is widely accepted throughout India’s religious traditions.',\n",
       " 'In its most basic form, karma applies to all deeds and their consequences and is used to advance the soul and cause enlightenment.']"
      ]
     },
     "execution_count": 5,
     "metadata": {},
     "output_type": "execute_result"
    }
   ],
   "source": [
    "sentences = nltk.sent_tokenize(paragraph)\n",
    "sentences"
   ]
  },
  {
   "attachments": {},
   "cell_type": "markdown",
   "metadata": {},
   "source": [
    "Extracting the words"
   ]
  },
  {
   "cell_type": "code",
   "execution_count": 7,
   "metadata": {},
   "outputs": [
    {
     "data": {
      "text/plain": [
       "['Karma',\n",
       " 'denotes',\n",
       " 'the',\n",
       " 'ethical',\n",
       " 'aspect',\n",
       " 'of',\n",
       " 'the',\n",
       " 'rebirth',\n",
       " '(',\n",
       " 'samsara',\n",
       " ')',\n",
       " 'method',\n",
       " ',',\n",
       " 'which',\n",
       " 'is',\n",
       " 'widely',\n",
       " 'accepted',\n",
       " 'throughout',\n",
       " 'India',\n",
       " '’',\n",
       " 's',\n",
       " 'religious',\n",
       " 'traditions',\n",
       " '.',\n",
       " 'In',\n",
       " 'its',\n",
       " 'most',\n",
       " 'basic',\n",
       " 'form',\n",
       " ',',\n",
       " 'karma',\n",
       " 'applies',\n",
       " 'to',\n",
       " 'all',\n",
       " 'deeds',\n",
       " 'and',\n",
       " 'their',\n",
       " 'consequences',\n",
       " 'and',\n",
       " 'is',\n",
       " 'used',\n",
       " 'to',\n",
       " 'advance',\n",
       " 'the',\n",
       " 'soul',\n",
       " 'and',\n",
       " 'cause',\n",
       " 'enlightenment',\n",
       " '.']"
      ]
     },
     "execution_count": 7,
     "metadata": {},
     "output_type": "execute_result"
    }
   ],
   "source": [
    "words = nltk.word_tokenize(paragraph)\n",
    "words"
   ]
  },
  {
   "attachments": {},
   "cell_type": "markdown",
   "metadata": {},
   "source": [
    "### Stop Words Removal"
   ]
  },
  {
   "attachments": {},
   "cell_type": "markdown",
   "metadata": {},
   "source": [
    "Using list to remove stop words"
   ]
  },
  {
   "cell_type": "code",
   "execution_count": 8,
   "metadata": {},
   "outputs": [],
   "source": [
    "for i in range(len(sentences)):\n",
    "    # From a single sentence, store all the words \n",
    "    wordsInSentence = nltk.word_tokenize(sentences[i])\n",
    "    \n",
    "    # Filter out all the stop words\n",
    "    wordsInSentence = [word for word in wordsInSentence if word not in set(stopwords.words('english'))]\n",
    "    \n",
    "    # Remake the sentences after removing the stop words\n",
    "    sentences[i] = ' '.join(wordsInSentence)"
   ]
  },
  {
   "attachments": {},
   "cell_type": "markdown",
   "metadata": {},
   "source": [
    "sentences looks like this"
   ]
  },
  {
   "cell_type": "code",
   "execution_count": 9,
   "metadata": {},
   "outputs": [
    {
     "data": {
      "text/plain": [
       "['Karma denotes ethical aspect rebirth ( samsara ) method , widely accepted throughout India ’ religious traditions .',\n",
       " 'In basic form , karma applies deeds consequences used advance soul cause enlightenment .']"
      ]
     },
     "execution_count": 9,
     "metadata": {},
     "output_type": "execute_result"
    }
   ],
   "source": [
    "sentences"
   ]
  },
  {
   "attachments": {},
   "cell_type": "markdown",
   "metadata": {},
   "source": [
    "### Stemming the data"
   ]
  },
  {
   "attachments": {},
   "cell_type": "markdown",
   "metadata": {},
   "source": [
    "Using Stemmer"
   ]
  },
  {
   "cell_type": "code",
   "execution_count": 10,
   "metadata": {},
   "outputs": [],
   "source": [
    "stemmer = PorterStemmer()"
   ]
  },
  {
   "cell_type": "code",
   "execution_count": 11,
   "metadata": {},
   "outputs": [
    {
     "data": {
      "text/plain": [
       "['Karma denotes ethical aspect rebirth ( samsara ) method , widely accepted throughout India ’ religious traditions .',\n",
       " 'In basic form , karma applies deeds consequences used advance soul cause enlightenment .']"
      ]
     },
     "execution_count": 11,
     "metadata": {},
     "output_type": "execute_result"
    }
   ],
   "source": [
    "sentences"
   ]
  },
  {
   "attachments": {},
   "cell_type": "markdown",
   "metadata": {},
   "source": [
    "### Lemmatization"
   ]
  },
  {
   "attachments": {},
   "cell_type": "markdown",
   "metadata": {},
   "source": [
    "Using Wordnet Lemmatizer"
   ]
  },
  {
   "cell_type": "code",
   "execution_count": 12,
   "metadata": {},
   "outputs": [],
   "source": [
    "lemmatizer = WordNetLemmatizer()"
   ]
  },
  {
   "cell_type": "code",
   "execution_count": 13,
   "metadata": {},
   "outputs": [],
   "source": [
    "for i in range(len(sentences)):\n",
    "    # From a single sentence, store all the words \n",
    "    wordsInSentence = nltk.word_tokenize(sentences[i])\n",
    "    \n",
    "    # Lemmatizing all the words\n",
    "    wordsInSentence = [lemmatizer.lemmatize(word) for word in wordsInSentence]\n",
    "    \n",
    "    # Remaking the sentence after lemmatization\n",
    "    sentences[i] = ' '.join(wordsInSentence)"
   ]
  },
  {
   "attachments": {},
   "cell_type": "markdown",
   "metadata": {},
   "source": [
    "Final Preprocessed data"
   ]
  },
  {
   "cell_type": "code",
   "execution_count": 14,
   "metadata": {},
   "outputs": [
    {
     "data": {
      "text/plain": [
       "['Karma denotes ethical aspect rebirth ( samsara ) method , widely accepted throughout India ’ religious tradition .',\n",
       " 'In basic form , karma applies deed consequence used advance soul cause enlightenment .']"
      ]
     },
     "execution_count": 14,
     "metadata": {},
     "output_type": "execute_result"
    }
   ],
   "source": [
    "sentences"
   ]
  }
 ],
 "metadata": {
  "kernelspec": {
   "display_name": "Python 3",
   "language": "python",
   "name": "python3"
  },
  "language_info": {
   "codemirror_mode": {
    "name": "ipython",
    "version": 3
   },
   "file_extension": ".py",
   "mimetype": "text/x-python",
   "name": "python",
   "nbconvert_exporter": "python",
   "pygments_lexer": "ipython3",
   "version": "3.11.2"
  },
  "orig_nbformat": 4,
  "vscode": {
   "interpreter": {
    "hash": "5238573367df39f7286bb46f9ff5f08f63a01a80960060ce41e3c79b190280fa"
   }
  }
 },
 "nbformat": 4,
 "nbformat_minor": 2
}
