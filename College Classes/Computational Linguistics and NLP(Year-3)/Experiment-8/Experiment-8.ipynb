{
 "cells": [
  {
   "cell_type": "markdown",
   "metadata": {},
   "source": [
    "# Experiment - 8 POS Tagging\n"
   ]
  },
  {
   "cell_type": "code",
   "execution_count": 23,
   "metadata": {},
   "outputs": [],
   "source": [
    "import pandas as pd\n",
    "import spacy\n",
    "nlp = spacy.load(\"en_core_web_sm\")"
   ]
  },
  {
   "cell_type": "code",
   "execution_count": 24,
   "metadata": {},
   "outputs": [],
   "source": [
    "df=pd.read_csv(\"elon_musk_tweets.csv\")"
   ]
  },
  {
   "cell_type": "code",
   "execution_count": 25,
   "metadata": {},
   "outputs": [
    {
     "data": {
      "text/html": [
       "<div>\n",
       "<style scoped>\n",
       "    .dataframe tbody tr th:only-of-type {\n",
       "        vertical-align: middle;\n",
       "    }\n",
       "\n",
       "    .dataframe tbody tr th {\n",
       "        vertical-align: top;\n",
       "    }\n",
       "\n",
       "    .dataframe thead th {\n",
       "        text-align: right;\n",
       "    }\n",
       "</style>\n",
       "<table border=\"1\" class=\"dataframe\">\n",
       "  <thead>\n",
       "    <tr style=\"text-align: right;\">\n",
       "      <th></th>\n",
       "      <th>id</th>\n",
       "      <th>user_name</th>\n",
       "      <th>user_location</th>\n",
       "      <th>user_description</th>\n",
       "      <th>user_created</th>\n",
       "      <th>user_followers</th>\n",
       "      <th>user_friends</th>\n",
       "      <th>user_favourites</th>\n",
       "      <th>user_verified</th>\n",
       "      <th>date</th>\n",
       "      <th>text</th>\n",
       "      <th>hashtags</th>\n",
       "      <th>source</th>\n",
       "      <th>retweets</th>\n",
       "      <th>favorites</th>\n",
       "      <th>is_retweet</th>\n",
       "    </tr>\n",
       "  </thead>\n",
       "  <tbody>\n",
       "    <tr>\n",
       "      <th>0</th>\n",
       "      <td>1544379368478212100</td>\n",
       "      <td>Elon Musk</td>\n",
       "      <td>NaN</td>\n",
       "      <td>Mars &amp; Cars, Chips &amp; Dips</td>\n",
       "      <td>2009-06-02 20:12:29+00:00</td>\n",
       "      <td>101240855</td>\n",
       "      <td>115</td>\n",
       "      <td>13503</td>\n",
       "      <td>True</td>\n",
       "      <td>2022-07-05 17:55:09+00:00</td>\n",
       "      <td>@BillyM2k I find the gold toe sock – inevitabl...</td>\n",
       "      <td>NaN</td>\n",
       "      <td>Twitter for iPhone</td>\n",
       "      <td>335</td>\n",
       "      <td>6542</td>\n",
       "      <td>False</td>\n",
       "    </tr>\n",
       "    <tr>\n",
       "      <th>1</th>\n",
       "      <td>1544377493263720450</td>\n",
       "      <td>Elon Musk</td>\n",
       "      <td>NaN</td>\n",
       "      <td>Mars &amp; Cars, Chips &amp; Dips</td>\n",
       "      <td>2009-06-02 20:12:29+00:00</td>\n",
       "      <td>101240806</td>\n",
       "      <td>115</td>\n",
       "      <td>13503</td>\n",
       "      <td>True</td>\n",
       "      <td>2022-07-05 17:47:42+00:00</td>\n",
       "      <td>Sock Con, the conference for socks</td>\n",
       "      <td>NaN</td>\n",
       "      <td>Twitter for iPhone</td>\n",
       "      <td>1451</td>\n",
       "      <td>30753</td>\n",
       "      <td>False</td>\n",
       "    </tr>\n",
       "    <tr>\n",
       "      <th>2</th>\n",
       "      <td>1544377130590552064</td>\n",
       "      <td>Elon Musk</td>\n",
       "      <td>NaN</td>\n",
       "      <td>Mars &amp; Cars, Chips &amp; Dips</td>\n",
       "      <td>2009-06-02 20:12:29+00:00</td>\n",
       "      <td>101240806</td>\n",
       "      <td>115</td>\n",
       "      <td>13503</td>\n",
       "      <td>True</td>\n",
       "      <td>2022-07-05 17:46:15+00:00</td>\n",
       "      <td>Always something new for the magazine cover an...</td>\n",
       "      <td>NaN</td>\n",
       "      <td>Twitter for iPhone</td>\n",
       "      <td>1284</td>\n",
       "      <td>28610</td>\n",
       "      <td>False</td>\n",
       "    </tr>\n",
       "    <tr>\n",
       "      <th>3</th>\n",
       "      <td>1544375575724400645</td>\n",
       "      <td>Elon Musk</td>\n",
       "      <td>NaN</td>\n",
       "      <td>Mars &amp; Cars, Chips &amp; Dips</td>\n",
       "      <td>2009-06-02 20:12:29+00:00</td>\n",
       "      <td>101240806</td>\n",
       "      <td>115</td>\n",
       "      <td>13503</td>\n",
       "      <td>True</td>\n",
       "      <td>2022-07-05 17:40:05+00:00</td>\n",
       "      <td>@ExplainThisBob This guy gets it</td>\n",
       "      <td>NaN</td>\n",
       "      <td>Twitter for iPhone</td>\n",
       "      <td>131</td>\n",
       "      <td>3640</td>\n",
       "      <td>False</td>\n",
       "    </tr>\n",
       "    <tr>\n",
       "      <th>4</th>\n",
       "      <td>1544375148605853699</td>\n",
       "      <td>Elon Musk</td>\n",
       "      <td>NaN</td>\n",
       "      <td>Mars &amp; Cars, Chips &amp; Dips</td>\n",
       "      <td>2009-06-02 20:12:29+00:00</td>\n",
       "      <td>101240806</td>\n",
       "      <td>115</td>\n",
       "      <td>13503</td>\n",
       "      <td>True</td>\n",
       "      <td>2022-07-05 17:38:23+00:00</td>\n",
       "      <td>Sock tech is so advanced that you can get pret...</td>\n",
       "      <td>NaN</td>\n",
       "      <td>Twitter for iPhone</td>\n",
       "      <td>1191</td>\n",
       "      <td>23790</td>\n",
       "      <td>False</td>\n",
       "    </tr>\n",
       "  </tbody>\n",
       "</table>\n",
       "</div>"
      ],
      "text/plain": [
       "                    id  user_name user_location           user_description  \\\n",
       "0  1544379368478212100  Elon Musk           NaN  Mars & Cars, Chips & Dips   \n",
       "1  1544377493263720450  Elon Musk           NaN  Mars & Cars, Chips & Dips   \n",
       "2  1544377130590552064  Elon Musk           NaN  Mars & Cars, Chips & Dips   \n",
       "3  1544375575724400645  Elon Musk           NaN  Mars & Cars, Chips & Dips   \n",
       "4  1544375148605853699  Elon Musk           NaN  Mars & Cars, Chips & Dips   \n",
       "\n",
       "                user_created  user_followers  user_friends  user_favourites  \\\n",
       "0  2009-06-02 20:12:29+00:00       101240855           115            13503   \n",
       "1  2009-06-02 20:12:29+00:00       101240806           115            13503   \n",
       "2  2009-06-02 20:12:29+00:00       101240806           115            13503   \n",
       "3  2009-06-02 20:12:29+00:00       101240806           115            13503   \n",
       "4  2009-06-02 20:12:29+00:00       101240806           115            13503   \n",
       "\n",
       "   user_verified                       date  \\\n",
       "0           True  2022-07-05 17:55:09+00:00   \n",
       "1           True  2022-07-05 17:47:42+00:00   \n",
       "2           True  2022-07-05 17:46:15+00:00   \n",
       "3           True  2022-07-05 17:40:05+00:00   \n",
       "4           True  2022-07-05 17:38:23+00:00   \n",
       "\n",
       "                                                text hashtags  \\\n",
       "0  @BillyM2k I find the gold toe sock – inevitabl...      NaN   \n",
       "1                 Sock Con, the conference for socks      NaN   \n",
       "2  Always something new for the magazine cover an...      NaN   \n",
       "3                   @ExplainThisBob This guy gets it      NaN   \n",
       "4  Sock tech is so advanced that you can get pret...      NaN   \n",
       "\n",
       "               source  retweets  favorites  is_retweet  \n",
       "0  Twitter for iPhone       335       6542       False  \n",
       "1  Twitter for iPhone      1451      30753       False  \n",
       "2  Twitter for iPhone      1284      28610       False  \n",
       "3  Twitter for iPhone       131       3640       False  \n",
       "4  Twitter for iPhone      1191      23790       False  "
      ]
     },
     "execution_count": 25,
     "metadata": {},
     "output_type": "execute_result"
    }
   ],
   "source": [
    "df.head()"
   ]
  },
  {
   "cell_type": "code",
   "execution_count": 26,
   "metadata": {},
   "outputs": [
    {
     "data": {
      "text/plain": [
       "0       @BillyM2k I find the gold toe sock – inevitabl...\n",
       "1                      Sock Con, the conference for socks\n",
       "2       Always something new for the magazine cover an...\n",
       "3                        @ExplainThisBob This guy gets it\n",
       "4       Sock tech is so advanced that you can get pret...\n",
       "                              ...                        \n",
       "3536    Check out my spicy 🌶️ 🔥 OnlyGANs!! https://t.c...\n",
       "3537                @derek_j_morris @pmarca Major problem\n",
       "3538                                        @EvaFoxU Nice\n",
       "3539    @DavidSacks A Russia-China alliance is inevita...\n",
       "3540                                 @PeterDiamandis Yeah\n",
       "Name: text, Length: 3541, dtype: object"
      ]
     },
     "execution_count": 26,
     "metadata": {},
     "output_type": "execute_result"
    }
   ],
   "source": [
    "tweets = df[\"text\"]\n",
    "tweets"
   ]
  },
  {
   "cell_type": "code",
   "execution_count": 27,
   "metadata": {},
   "outputs": [],
   "source": [
    "nlp = spacy.load(\"en_core_web_sm\")"
   ]
  },
  {
   "cell_type": "code",
   "execution_count": 28,
   "metadata": {},
   "outputs": [],
   "source": [
    "def pos(text):\n",
    "    doc= nlp(text)\n",
    "    return[[token, token.pos_] for token in doc]"
   ]
  },
  {
   "cell_type": "code",
   "execution_count": 29,
   "metadata": {},
   "outputs": [],
   "source": [
    "t= tweets.apply(pos)"
   ]
  },
  {
   "cell_type": "code",
   "execution_count": 30,
   "metadata": {},
   "outputs": [
    {
     "data": {
      "text/plain": [
       "0    [[@BillyM2k, VERB], [I, PRON], [find, VERB], [...\n",
       "1    [[Sock, PROPN], [Con, PROPN], [,, PUNCT], [the...\n",
       "2    [[Always, ADV], [something, PRON], [new, ADJ],...\n",
       "3    [[@ExplainThisBob, ADV], [This, DET], [guy, NO...\n",
       "4    [[Sock, PROPN], [tech, NOUN], [is, AUX], [so, ...\n",
       "Name: text, dtype: object"
      ]
     },
     "execution_count": 30,
     "metadata": {},
     "output_type": "execute_result"
    }
   ],
   "source": [
    "t.head()"
   ]
  },
  {
   "cell_type": "code",
   "execution_count": null,
   "metadata": {},
   "outputs": [],
   "source": []
  }
 ],
 "metadata": {
  "kernelspec": {
   "display_name": "Python 3",
   "language": "python",
   "name": "python3"
  },
  "language_info": {
   "codemirror_mode": {
    "name": "ipython",
    "version": 3
   },
   "file_extension": ".py",
   "mimetype": "text/x-python",
   "name": "python",
   "nbconvert_exporter": "python",
   "pygments_lexer": "ipython3",
   "version": "3.11.2"
  },
  "orig_nbformat": 4
 },
 "nbformat": 4,
 "nbformat_minor": 2
}
