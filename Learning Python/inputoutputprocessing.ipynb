{
 "cells": [
  {
   "cell_type": "markdown",
   "metadata": {},
   "source": [
    "### Problem 1 :- Personal Information\n",
    "Write a program that displays the information :- your name, your address with city and state and zip, your telephone number, your college major."
   ]
  },
  {
   "cell_type": "code",
   "execution_count": 1,
   "metadata": {},
   "outputs": [
    {
     "name": "stdout",
     "output_type": "stream",
     "text": [
      "Sudhanshu Vishwakarma\n",
      "bhopal 9424456716 computer science\n"
     ]
    }
   ],
   "source": [
    "name = input ('Enter your name: ')\n",
    "address = input('Enter Address: ')\n",
    "telephone = int(input('Enter your telephone number: '))\n",
    "major = input('Enter college major: ')\n",
    "\n",
    "print(name)\n",
    "print(address,telephone,major,sep =\" \")"
   ]
  },
  {
   "cell_type": "markdown",
   "metadata": {},
   "source": [
    "### Problem -2 :- Sales Prediction\n",
    "A company has determined that its annual profit is typically 23 percent of total sales. Write a program that asks the user to enter the projected amount of total sales, then displays the profit that will be made from that amount.\n",
    "Hint: Use the value 0.23 to represent 23 percent."
   ]
  },
  {
   "cell_type": "code",
   "execution_count": 7,
   "metadata": {},
   "outputs": [
    {
     "name": "stdout",
     "output_type": "stream",
     "text": [
      "Total profit earned is :  5290\n"
     ]
    }
   ],
   "source": [
    "total_sales = float(input('Enter total sales amount : '))\n",
    "profit = int(total_sales * 0.23)\n",
    "print('Total profit earned is : ',profit)"
   ]
  },
  {
   "cell_type": "markdown",
   "metadata": {},
   "source": [
    "### Problem -3 :- Pound to Kilogram\n",
    "One pound is equivalent to 0.454 kilograms. Write a program that asks the user to enter the mass of an object in pounds and then calculates and displays the mass of the object in kilograms."
   ]
  },
  {
   "cell_type": "code",
   "execution_count": 8,
   "metadata": {},
   "outputs": [
    {
     "name": "stdout",
     "output_type": "stream",
     "text": [
      "total weight in kilo is:  4.54\n"
     ]
    }
   ],
   "source": [
    "pound_weight = float(input('Enter weight in pound: '))\n",
    "kilo_weight = pound_weight * 0.454\n",
    "print('total weight in kilo is: ',kilo_weight)"
   ]
  },
  {
   "cell_type": "markdown",
   "metadata": {},
   "source": [
    "### Problem - 4 :- Total Purchase\n",
    "A customer in a store is purchasing five items. Write a program that asks for the price of each item, then displays the subtotal of the sale, the amount of sales tax, and the total. Assume the sales tax is 7 percent"
   ]
  },
  {
   "cell_type": "code",
   "execution_count": 10,
   "metadata": {},
   "outputs": [
    {
     "name": "stdout",
     "output_type": "stream",
     "text": [
      "Total Sales Tax is :  10.5\n",
      "Total Sales Price is:  25.5\n"
     ]
    }
   ],
   "source": [
    "item1=int(input(\"Enter price of item no.1: \"))\n",
    "item2=int(input(\"Enter price of item no.2: \"))\n",
    "item3=int(input(\"Enter price of item no.3: \"))\n",
    "item4=int(input(\"Enter price of item no.4: \"))\n",
    "item5=int(input(\"Enter price of item no.5: \"))\n",
    "\n",
    "total_costprice=float(item1+item2+item3+item4+item5)\n",
    "total_salestax = total_costprice*0.7\n",
    "total_price = total_costprice +total_salestax\n",
    "\n",
    "print(\"Total Sales Tax is : \",total_salestax)\n",
    "print(\"Total Sales Price is: \",total_price)\n",
    "\n"
   ]
  },
  {
   "cell_type": "markdown",
   "metadata": {},
   "source": [
    "### Problem -5 :- Distance Traveled\n",
    "Assuming there are no accidents or delays, the distance that a car travels down the interstate can be calculated with the following formula:\n",
    "Distance= Speed * Time\n",
    "A car is traveling at 70 miles per hour. Write a program that displays the following:\n",
    "• The distance the car will travel in 6 hours\n",
    "• The distance the car will travel in 10 hours\n",
    "• The distance the car will travel in 15 hours"
   ]
  },
  {
   "cell_type": "code",
   "execution_count": 11,
   "metadata": {},
   "outputs": [
    {
     "name": "stdout",
     "output_type": "stream",
     "text": [
      "Miles traveled in 6 hours 420\n",
      "Miles Traveled in 10 hours 700\n",
      "Miles traveled in 15 hours 1050\n"
     ]
    }
   ],
   "source": [
    "car_speed = 70\n",
    "print('Miles traveled in 6 hours', car_speed * 6)\n",
    "print('Miles Traveled in 10 hours',car_speed*10)\n",
    "print('Miles traveled in 15 hours', car_speed * 15)"
   ]
  },
  {
   "cell_type": "markdown",
   "metadata": {},
   "source": [
    "### Problem -6 :- Payment Installments\n",
    "Write a program that asks the user to enter the amount of a purchase and the desired number of payment instalments. The program should add 5 percent to the amount to get the total purchase amount, and then divide it by the desired number of instalments, then display messages telling the user the total amount of the purchase and how much each instalment will cost.\n"
   ]
  },
  {
   "cell_type": "code",
   "execution_count": 13,
   "metadata": {},
   "outputs": [
    {
     "name": "stdout",
     "output_type": "stream",
     "text": [
      "Total cost of the product is:  1050.0\n",
      "total cost per installment is: 105.0\n"
     ]
    }
   ],
   "source": [
    "cost = int(input('Enter the cost of the product: '))\n",
    "installments = int(input('Enter the number of payment installments: '))\n",
    "total_cost =cost + float(cost * 0.05) \n",
    "total_installment_cost = total_cost / installments \n",
    "\n",
    "print('Total cost of the product is: ',total_cost)\n",
    "print('total cost per installment is:',total_installment_cost)"
   ]
  },
  {
   "cell_type": "code",
   "execution_count": null,
   "metadata": {},
   "outputs": [],
   "source": [
    "# write a factorial function"
   ]
  }
 ],
 "metadata": {
  "kernelspec": {
   "display_name": "Python 3",
   "language": "python",
   "name": "python3"
  },
  "language_info": {
   "codemirror_mode": {
    "name": "ipython",
    "version": 3
   },
   "file_extension": ".py",
   "mimetype": "text/x-python",
   "name": "python",
   "nbconvert_exporter": "python",
   "pygments_lexer": "ipython3",
   "version": "3.11.3"
  }
 },
 "nbformat": 4,
 "nbformat_minor": 2
}
